{
 "cells": [
  {
   "cell_type": "markdown",
   "metadata": {},
   "source": [
    "# CityBikes"
   ]
  },
  {
   "cell_type": "markdown",
   "metadata": {},
   "source": [
    "Send a request to CityBikes for the city of your choice. "
   ]
  },
  {
   "cell_type": "code",
   "execution_count": null,
   "metadata": {},
   "outputs": [
    {
     "name": "stdout",
     "output_type": "stream",
     "text": [
      "ID: mobibikes\n"
     ]
    }
   ],
   "source": [
    "import requests\n",
    "import pandas as pd\n",
    "\n",
    "# Call the networks endpoint\n",
    "url = \"https://api.citybik.es/v2/networks\"\n",
    "resp = requests.get(url).json()\n",
    "\n",
    "# Find the Vancouver network(s)\n",
    "vancouver_nets = [\n",
    "    net for netfor net in vancouver_nets:\n",
    "    print(\"ID:\", net['id'])"
   ]
  },
  {
   "cell_type": "markdown",
   "metadata": {},
   "source": [
    "Parse through the response to get the details you want for the bike stations in that city (latitude, longitude, number of bikes). "
   ]
  },
  {
   "cell_type": "code",
   "execution_count": 2,
   "metadata": {},
   "outputs": [
    {
     "name": "stdout",
     "output_type": "stream",
     "text": [
      "Stations found: 264\n"
     ]
    }
   ],
   "source": [
    "# Get Vancouver station data using the network ID\n",
    "url = \"https://api.citybik.es/v2/networks/mobibikes\"\n",
    "bike_data = requests.get(url).json()\n",
    "\n",
    "# Extract station list\n",
    "stations = bike_data['network']['stations']\n",
    "print(\"Stations found:\", len(stations) )"
   ]
  },
  {
   "cell_type": "markdown",
   "metadata": {},
   "source": [
    "Put your parsed results into a DataFrame."
   ]
  },
  {
   "cell_type": "code",
   "execution_count": 3,
   "metadata": {},
   "outputs": [
    {
     "data": {
      "text/html": [
       "<div>\n",
       "<style scoped>\n",
       "    .dataframe tbody tr th:only-of-type {\n",
       "        vertical-align: middle;\n",
       "    }\n",
       "\n",
       "    .dataframe tbody tr th {\n",
       "        vertical-align: top;\n",
       "    }\n",
       "\n",
       "    .dataframe thead th {\n",
       "        text-align: right;\n",
       "    }\n",
       "</style>\n",
       "<table border=\"1\" class=\"dataframe\">\n",
       "  <thead>\n",
       "    <tr style=\"text-align: right;\">\n",
       "      <th></th>\n",
       "      <th>id</th>\n",
       "      <th>name</th>\n",
       "      <th>latitude</th>\n",
       "      <th>longitude</th>\n",
       "      <th>timestamp</th>\n",
       "      <th>free_bikes</th>\n",
       "      <th>empty_slots</th>\n",
       "      <th>extra</th>\n",
       "    </tr>\n",
       "  </thead>\n",
       "  <tbody>\n",
       "    <tr>\n",
       "      <th>0</th>\n",
       "      <td>00fa94ad698dc4a9e4d708d6fd32f294</td>\n",
       "      <td>Chilco &amp; Barclay</td>\n",
       "      <td>49.291909</td>\n",
       "      <td>-123.140713</td>\n",
       "      <td>2025-05-15T22:10:18.971140+00:00Z</td>\n",
       "      <td>12</td>\n",
       "      <td>6</td>\n",
       "      <td>{'uid': '0092', 'renting': True, 'returning': ...</td>\n",
       "    </tr>\n",
       "    <tr>\n",
       "      <th>1</th>\n",
       "      <td>012d3e06901cc222b1c2cf0a2ace3a29</td>\n",
       "      <td>St George &amp; Broadway</td>\n",
       "      <td>49.262321</td>\n",
       "      <td>-123.093060</td>\n",
       "      <td>2025-05-15T22:10:19.278717+00:00Z</td>\n",
       "      <td>4</td>\n",
       "      <td>9</td>\n",
       "      <td>{'uid': '0248', 'renting': True, 'returning': ...</td>\n",
       "    </tr>\n",
       "    <tr>\n",
       "      <th>2</th>\n",
       "      <td>029a505bd4422a1afd127987757f71a6</td>\n",
       "      <td>Britannia Parking Lot</td>\n",
       "      <td>49.275882</td>\n",
       "      <td>-123.071865</td>\n",
       "      <td>2025-05-15T22:10:19.223420+00:00Z</td>\n",
       "      <td>1</td>\n",
       "      <td>10</td>\n",
       "      <td>{'uid': '0232', 'renting': True, 'returning': ...</td>\n",
       "    </tr>\n",
       "    <tr>\n",
       "      <th>3</th>\n",
       "      <td>0438114d2e6b96118de69bc9775bb21e</td>\n",
       "      <td>Morton &amp; Denman</td>\n",
       "      <td>49.288030</td>\n",
       "      <td>-123.142135</td>\n",
       "      <td>2025-05-15T22:10:18.888188+00:00Z</td>\n",
       "      <td>8</td>\n",
       "      <td>17</td>\n",
       "      <td>{'uid': '0031', 'renting': True, 'returning': ...</td>\n",
       "    </tr>\n",
       "    <tr>\n",
       "      <th>4</th>\n",
       "      <td>0459b7e93703980b853cd65a9dc60596</td>\n",
       "      <td>Thornton &amp; National</td>\n",
       "      <td>49.273777</td>\n",
       "      <td>-123.092723</td>\n",
       "      <td>2025-05-15T22:10:19.277211+00:00Z</td>\n",
       "      <td>11</td>\n",
       "      <td>3</td>\n",
       "      <td>{'uid': '0233', 'renting': True, 'returning': ...</td>\n",
       "    </tr>\n",
       "  </tbody>\n",
       "</table>\n",
       "</div>"
      ],
      "text/plain": [
       "                                 id                   name   latitude  \\\n",
       "0  00fa94ad698dc4a9e4d708d6fd32f294       Chilco & Barclay  49.291909   \n",
       "1  012d3e06901cc222b1c2cf0a2ace3a29   St George & Broadway  49.262321   \n",
       "2  029a505bd4422a1afd127987757f71a6  Britannia Parking Lot  49.275882   \n",
       "3  0438114d2e6b96118de69bc9775bb21e        Morton & Denman  49.288030   \n",
       "4  0459b7e93703980b853cd65a9dc60596    Thornton & National  49.273777   \n",
       "\n",
       "    longitude                          timestamp  free_bikes  empty_slots  \\\n",
       "0 -123.140713  2025-05-15T22:10:18.971140+00:00Z          12            6   \n",
       "1 -123.093060  2025-05-15T22:10:19.278717+00:00Z           4            9   \n",
       "2 -123.071865  2025-05-15T22:10:19.223420+00:00Z           1           10   \n",
       "3 -123.142135  2025-05-15T22:10:18.888188+00:00Z           8           17   \n",
       "4 -123.092723  2025-05-15T22:10:19.277211+00:00Z          11            3   \n",
       "\n",
       "                                               extra  \n",
       "0  {'uid': '0092', 'renting': True, 'returning': ...  \n",
       "1  {'uid': '0248', 'renting': True, 'returning': ...  \n",
       "2  {'uid': '0232', 'renting': True, 'returning': ...  \n",
       "3  {'uid': '0031', 'renting': True, 'returning': ...  \n",
       "4  {'uid': '0233', 'renting': True, 'returning': ...  "
      ]
     },
     "execution_count": 3,
     "metadata": {},
     "output_type": "execute_result"
    }
   ],
   "source": [
    "# Create a DataFrame\n",
    "df = pd.DataFrame(stations)\n",
    "\n",
    "# Save to CSV\n",
    "df.to_csv(\"vancouver_bike_stations.csv\", index=False)\n",
    "\n",
    "# Display a DataFrame\n",
    "df.head()"
   ]
  }
 ],
 "metadata": {
  "kernelspec": {
   "display_name": "Python 3 (ipykernel)",
   "language": "python",
   "name": "python3"
  },
  "language_info": {
   "codemirror_mode": {
    "name": "ipython",
    "version": 3
   },
   "file_extension": ".py",
   "mimetype": "text/x-python",
   "name": "python",
   "nbconvert_exporter": "python",
   "pygments_lexer": "ipython3",
   "version": "3.12.1"
  }
 },
 "nbformat": 4,
 "nbformat_minor": 4
}
