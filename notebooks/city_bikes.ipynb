{
 "cells": [
  {
   "cell_type": "markdown",
   "metadata": {},
   "source": [
    "# CityBikes"
   ]
  },
  {
   "cell_type": "markdown",
   "metadata": {},
   "source": [
    "Send a request to CityBikes for the city of your choice. "
   ]
  },
  {
   "cell_type": "code",
   "execution_count": null,
   "metadata": {},
   "outputs": [],
   "source": [
    "import requests\n",
    "import pandas as pd\n",
    "\n",
    "# 1. Call the networks endpoint\n",
    "url = \"https://api.citybik.es/v2/networks\"\n",
    "resp = requests.get(url).json()\n",
    "\n",
    "# 2. Find the Vancouver network(s)\n",
    "vancouver_nets = [\n",
    "    net for net in resp['networks']\n",
    "    if net['location']['city'].lower() == \"vancouver\"\n",
    "]\n",
    "\n",
    "# 3. Print out the Vancouver ID\n",
    "for net in vancouver_nets:\n",
    "    print(\"ID:\", net['id'])"
   ]
  },
  {
   "cell_type": "markdown",
   "metadata": {},
   "source": [
    "Parse through the response to get the details you want for the bike stations in that city (latitude, longitude, number of bikes). "
   ]
  },
  {
   "cell_type": "code",
   "execution_count": null,
   "metadata": {},
   "outputs": [],
   "source": [
    "# Get Vancouver station data using the network ID\n",
    "url = \"https://api.citybik.es/v2/networks/mobibikes\"\n",
    "bike_data = requests.get(url).json()\n",
    "\n",
    "# Extract station list\n",
    "stations = bike_data['network']['stations']\n",
    "print(\"Stations found:\", len(stations) )"
   ]
  },
  {
   "cell_type": "markdown",
   "metadata": {},
   "source": [
    "Put your parsed results into a DataFrame."
   ]
  },
  {
   "cell_type": "code",
   "execution_count": null,
   "metadata": {},
   "outputs": [],
   "source": [
    "# Create a DataFrame\n",
    "df = pd.DataFrame(stations)\n",
    "\n",
    "# Save to CSV\n",
    "df.to_csv(\"vancouver_bike_stations.csv\", index=False)\n",
    "\n",
    "# Display a DataFrame\n",
    "df.head()"
   ]
  }
 ],
 "metadata": {
  "kernelspec": {
   "display_name": "Python 3",
   "language": "python",
   "name": "python3"
  },
  "language_info": {
   "codemirror_mode": {
    "name": "ipython",
    "version": 3
   },
   "file_extension": ".py",
   "mimetype": "text/x-python",
   "name": "python",
   "nbconvert_exporter": "python",
   "pygments_lexer": "ipython3",
   "version": "3.8.5"
  }
 },
 "nbformat": 4,
 "nbformat_minor": 4
}
