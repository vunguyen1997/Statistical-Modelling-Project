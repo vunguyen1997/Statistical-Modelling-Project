{
 "cells": [
  {
   "cell_type": "code",
   "execution_count": 1,
   "metadata": {},
   "outputs": [
    {
     "data": {
      "text/html": [
       "<div>\n",
       "<style scoped>\n",
       "    .dataframe tbody tr th:only-of-type {\n",
       "        vertical-align: middle;\n",
       "    }\n",
       "\n",
       "    .dataframe tbody tr th {\n",
       "        vertical-align: top;\n",
       "    }\n",
       "\n",
       "    .dataframe thead th {\n",
       "        text-align: right;\n",
       "    }\n",
       "</style>\n",
       "<table border=\"1\" class=\"dataframe\">\n",
       "  <thead>\n",
       "    <tr style=\"text-align: right;\">\n",
       "      <th></th>\n",
       "      <th>id</th>\n",
       "      <th>name</th>\n",
       "      <th>latitude</th>\n",
       "      <th>longitude</th>\n",
       "      <th>timestamp</th>\n",
       "      <th>free_bikes</th>\n",
       "      <th>empty_slots</th>\n",
       "      <th>extra</th>\n",
       "    </tr>\n",
       "  </thead>\n",
       "  <tbody>\n",
       "    <tr>\n",
       "      <th>0</th>\n",
       "      <td>00fa94ad698dc4a9e4d708d6fd32f294</td>\n",
       "      <td>Chilco &amp; Barclay</td>\n",
       "      <td>49.291909</td>\n",
       "      <td>-123.140713</td>\n",
       "      <td>2025-05-15T22:10:18.971140+00:00Z</td>\n",
       "      <td>12</td>\n",
       "      <td>6</td>\n",
       "      <td>{'uid': '0092', 'renting': True, 'returning': ...</td>\n",
       "    </tr>\n",
       "    <tr>\n",
       "      <th>1</th>\n",
       "      <td>012d3e06901cc222b1c2cf0a2ace3a29</td>\n",
       "      <td>St George &amp; Broadway</td>\n",
       "      <td>49.262321</td>\n",
       "      <td>-123.093060</td>\n",
       "      <td>2025-05-15T22:10:19.278717+00:00Z</td>\n",
       "      <td>4</td>\n",
       "      <td>9</td>\n",
       "      <td>{'uid': '0248', 'renting': True, 'returning': ...</td>\n",
       "    </tr>\n",
       "    <tr>\n",
       "      <th>2</th>\n",
       "      <td>029a505bd4422a1afd127987757f71a6</td>\n",
       "      <td>Britannia Parking Lot</td>\n",
       "      <td>49.275882</td>\n",
       "      <td>-123.071865</td>\n",
       "      <td>2025-05-15T22:10:19.223420+00:00Z</td>\n",
       "      <td>1</td>\n",
       "      <td>10</td>\n",
       "      <td>{'uid': '0232', 'renting': True, 'returning': ...</td>\n",
       "    </tr>\n",
       "    <tr>\n",
       "      <th>3</th>\n",
       "      <td>0438114d2e6b96118de69bc9775bb21e</td>\n",
       "      <td>Morton &amp; Denman</td>\n",
       "      <td>49.288030</td>\n",
       "      <td>-123.142135</td>\n",
       "      <td>2025-05-15T22:10:18.888188+00:00Z</td>\n",
       "      <td>8</td>\n",
       "      <td>17</td>\n",
       "      <td>{'uid': '0031', 'renting': True, 'returning': ...</td>\n",
       "    </tr>\n",
       "    <tr>\n",
       "      <th>4</th>\n",
       "      <td>0459b7e93703980b853cd65a9dc60596</td>\n",
       "      <td>Thornton &amp; National</td>\n",
       "      <td>49.273777</td>\n",
       "      <td>-123.092723</td>\n",
       "      <td>2025-05-15T22:10:19.277211+00:00Z</td>\n",
       "      <td>11</td>\n",
       "      <td>3</td>\n",
       "      <td>{'uid': '0233', 'renting': True, 'returning': ...</td>\n",
       "    </tr>\n",
       "  </tbody>\n",
       "</table>\n",
       "</div>"
      ],
      "text/plain": [
       "                                 id                   name   latitude  \\\n",
       "0  00fa94ad698dc4a9e4d708d6fd32f294       Chilco & Barclay  49.291909   \n",
       "1  012d3e06901cc222b1c2cf0a2ace3a29   St George & Broadway  49.262321   \n",
       "2  029a505bd4422a1afd127987757f71a6  Britannia Parking Lot  49.275882   \n",
       "3  0438114d2e6b96118de69bc9775bb21e        Morton & Denman  49.288030   \n",
       "4  0459b7e93703980b853cd65a9dc60596    Thornton & National  49.273777   \n",
       "\n",
       "    longitude                          timestamp  free_bikes  empty_slots  \\\n",
       "0 -123.140713  2025-05-15T22:10:18.971140+00:00Z          12            6   \n",
       "1 -123.093060  2025-05-15T22:10:19.278717+00:00Z           4            9   \n",
       "2 -123.071865  2025-05-15T22:10:19.223420+00:00Z           1           10   \n",
       "3 -123.142135  2025-05-15T22:10:18.888188+00:00Z           8           17   \n",
       "4 -123.092723  2025-05-15T22:10:19.277211+00:00Z          11            3   \n",
       "\n",
       "                                               extra  \n",
       "0  {'uid': '0092', 'renting': True, 'returning': ...  \n",
       "1  {'uid': '0248', 'renting': True, 'returning': ...  \n",
       "2  {'uid': '0232', 'renting': True, 'returning': ...  \n",
       "3  {'uid': '0031', 'renting': True, 'returning': ...  \n",
       "4  {'uid': '0233', 'renting': True, 'returning': ...  "
      ]
     },
     "execution_count": 1,
     "metadata": {},
     "output_type": "execute_result"
    }
   ],
   "source": [
    "# imports\n",
    "import pandas as pd\n",
    "import requests\n",
    "df = pd.read_csv(\"vancouver_bike_stations.csv\")\n",
    "df.head()"
   ]
  },
  {
   "cell_type": "markdown",
   "metadata": {},
   "source": [
    "# Foursquare"
   ]
  },
  {
   "cell_type": "markdown",
   "metadata": {},
   "source": [
    "Send a request to Foursquare with a small radius (1000m) for all the bike stations in your city of choice. "
   ]
  },
  {
   "cell_type": "code",
   "execution_count": 2,
   "metadata": {},
   "outputs": [],
   "source": [
    "# Set up Foursquare API key & headers\n",
    "fsq_api_key = \"fsq3qngNK3ZpApaAwjmlU/vq81pHyylliFDOfOSKTdlTht8=\"\n",
    "headers = {\n",
    "    \"Accept\":        \"application/json\",\n",
    "    \"Authorization\": fsq_api_key\n",
    "}\n",
    "\n",
    "# Query Foursquare for each station's nearby restaurants\n",
    "fsq_raw = []\n",
    "for _, row in df.iterrows():\n",
    "    lat, lon, station = row[\"latitude\"], row[\"longitude\"], row[\"name\"]\n",
    "    params = {\n",
    "        \"ll\":     f\"{lat},{lon}\",\n",
    "        \"radius\": 1000,\n",
    "        \"query\":  \"restaurant\",\n",
    "        \"limit\":  5\n",
    "    }\n",
    "    url      = \"https://api.foursquare.com/v3/places/search\"\n",
    "    resp     = requests.get(url, headers=headers, params=params).json()\n",
    "    fsq_raw.append((station, resp))"
   ]
  },
  {
   "cell_type": "markdown",
   "metadata": {},
   "source": [
    "Parse through the response to get the POI (such as restaurants, bars, etc) details you want (ratings, name, location, etc)"
   ]
  },
  {
   "cell_type": "code",
   "execution_count": 3,
   "metadata": {},
   "outputs": [],
   "source": [
    "# Parse out the response\n",
    "poi_list = []\n",
    "for station, raw in fsq_raw:\n",
    "    for place in raw.get(\"results\", []):\n",
    "        poi_list.append({\n",
    "            \"station_name\": station,\n",
    "            \"place_name\":   place.get(\"name\"),\n",
    "            \"address\":      place[\"location\"].get(\"formatted_address\"),\n",
    "            \"distance\":     place.get(\"distance\")\n",
    "        })"
   ]
  },
  {
   "cell_type": "markdown",
   "metadata": {},
   "source": [
    "Put your parsed results into a DataFrame"
   ]
  },
  {
   "cell_type": "code",
   "execution_count": 4,
   "metadata": {},
   "outputs": [
    {
     "data": {
      "text/html": [
       "<div>\n",
       "<style scoped>\n",
       "    .dataframe tbody tr th:only-of-type {\n",
       "        vertical-align: middle;\n",
       "    }\n",
       "\n",
       "    .dataframe tbody tr th {\n",
       "        vertical-align: top;\n",
       "    }\n",
       "\n",
       "    .dataframe thead th {\n",
       "        text-align: right;\n",
       "    }\n",
       "</style>\n",
       "<table border=\"1\" class=\"dataframe\">\n",
       "  <thead>\n",
       "    <tr style=\"text-align: right;\">\n",
       "      <th></th>\n",
       "      <th>station_name</th>\n",
       "      <th>place_name</th>\n",
       "      <th>address</th>\n",
       "      <th>distance</th>\n",
       "    </tr>\n",
       "  </thead>\n",
       "  <tbody>\n",
       "    <tr>\n",
       "      <th>0</th>\n",
       "      <td>Chilco &amp; Barclay</td>\n",
       "      <td>Kingyo Izakaya</td>\n",
       "      <td>871 Denman St (btwn Haro &amp; Barclay), Vancouver...</td>\n",
       "      <td>308</td>\n",
       "    </tr>\n",
       "    <tr>\n",
       "      <th>1</th>\n",
       "      <td>Chilco &amp; Barclay</td>\n",
       "      <td>Peaked Pies</td>\n",
       "      <td>975 Denman St, Vancouver BC V6G 2M3</td>\n",
       "      <td>299</td>\n",
       "    </tr>\n",
       "    <tr>\n",
       "      <th>2</th>\n",
       "      <td>Chilco &amp; Barclay</td>\n",
       "      <td>Tavola</td>\n",
       "      <td>1829 Robson St (at Denman St), Vancouver BC V6...</td>\n",
       "      <td>354</td>\n",
       "    </tr>\n",
       "    <tr>\n",
       "      <th>3</th>\n",
       "      <td>Chilco &amp; Barclay</td>\n",
       "      <td>Ma Dang Goul</td>\n",
       "      <td>847 Denman St (at Haro St.), Vancouver BC V6G 2L7</td>\n",
       "      <td>335</td>\n",
       "    </tr>\n",
       "    <tr>\n",
       "      <th>4</th>\n",
       "      <td>Chilco &amp; Barclay</td>\n",
       "      <td>Joe's Grill</td>\n",
       "      <td>948 Denman St (at Barclay St), Vancouver BC V6...</td>\n",
       "      <td>311</td>\n",
       "    </tr>\n",
       "  </tbody>\n",
       "</table>\n",
       "</div>"
      ],
      "text/plain": [
       "       station_name      place_name  \\\n",
       "0  Chilco & Barclay  Kingyo Izakaya   \n",
       "1  Chilco & Barclay     Peaked Pies   \n",
       "2  Chilco & Barclay          Tavola   \n",
       "3  Chilco & Barclay    Ma Dang Goul   \n",
       "4  Chilco & Barclay     Joe's Grill   \n",
       "\n",
       "                                             address  distance  \n",
       "0  871 Denman St (btwn Haro & Barclay), Vancouver...       308  \n",
       "1                975 Denman St, Vancouver BC V6G 2M3       299  \n",
       "2  1829 Robson St (at Denman St), Vancouver BC V6...       354  \n",
       "3  847 Denman St (at Haro St.), Vancouver BC V6G 2L7       335  \n",
       "4  948 Denman St (at Barclay St), Vancouver BC V6...       311  "
      ]
     },
     "execution_count": 4,
     "metadata": {},
     "output_type": "execute_result"
    }
   ],
   "source": [
    "# Put results into a DataFrame\n",
    "fsq_df = pd.DataFrame(poi_list)\n",
    "fsq_df.head()"
   ]
  },
  {
   "cell_type": "markdown",
   "metadata": {},
   "source": [
    "# Yelp"
   ]
  },
  {
   "cell_type": "markdown",
   "metadata": {},
   "source": [
    "Send a request to Yelp with a small radius (1000m) for all the bike stations in your city of choice. "
   ]
  },
  {
   "cell_type": "code",
   "execution_count": 5,
   "metadata": {},
   "outputs": [],
   "source": [
    "# Set up Yelp API key & headers\n",
    "yelp_api_key = \"7gg7whyAZwnsfKi7dKfxtzGIh75_QO-iqFUPlzrfdiLPWsKSbXmSiws0jcgRgjRKdlFJ8Y17oNUybRVjIaLlp-fyZOhK1TO5NGiNP8gKW2IRXsQzp2VBjSGdpPIbaHYx\"\n",
    "headers = {\n",
    "    \"Authorization\": f\"Bearer {yelp_api_key}\"\n",
    "}\n",
    "\n",
    "# Query Yelp for each station's nearby restaurants\n",
    "yelp_raw = []\n",
    "for _, row in df.iterrows():\n",
    "    lat, lon, station = row[\"latitude\"], row[\"longitude\"], row[\"name\"]\n",
    "    params = {\n",
    "        \"term\":      \"restaurant\",\n",
    "        \"latitude\":  lat,\n",
    "        \"longitude\": lon,\n",
    "        \"radius\":    1000,\n",
    "        \"limit\":     5\n",
    "    }\n",
    "    url      = \"https://api.yelp.com/v3/businesses/search\"\n",
    "    resp     = requests.get(url, headers=headers, params=params).json()\n",
    "    yelp_raw.append((station, resp))"
   ]
  },
  {
   "cell_type": "markdown",
   "metadata": {},
   "source": [
    "Parse through the response to get the POI (such as restaurants, bars, etc) details you want (ratings, name, location, etc)"
   ]
  },
  {
   "cell_type": "code",
   "execution_count": 6,
   "metadata": {},
   "outputs": [],
   "source": [
    "# Parse out the response\n",
    "biz_list = []\n",
    "for station, raw in yelp_raw:\n",
    "    for b in raw.get(\"businesses\", []):\n",
    "        biz_list.append({\n",
    "            \"station_name\": station,\n",
    "            \"place_name\":   b.get(\"name\"),\n",
    "            \"address\":      b[\"location\"].get(\"address1\"),\n",
    "            \"rating\":       b.get(\"rating\")\n",
    "        })"
   ]
  },
  {
   "cell_type": "markdown",
   "metadata": {},
   "source": [
    "Put your parsed results into a DataFrame"
   ]
  },
  {
   "cell_type": "markdown",
   "metadata": {},
   "source": []
  },
  {
   "cell_type": "code",
   "execution_count": 7,
   "metadata": {},
   "outputs": [
    {
     "data": {
      "text/html": [
       "<div>\n",
       "<style scoped>\n",
       "    .dataframe tbody tr th:only-of-type {\n",
       "        vertical-align: middle;\n",
       "    }\n",
       "\n",
       "    .dataframe tbody tr th {\n",
       "        vertical-align: top;\n",
       "    }\n",
       "\n",
       "    .dataframe thead th {\n",
       "        text-align: right;\n",
       "    }\n",
       "</style>\n",
       "<table border=\"1\" class=\"dataframe\">\n",
       "  <thead>\n",
       "    <tr style=\"text-align: right;\">\n",
       "      <th></th>\n",
       "      <th>station_name</th>\n",
       "      <th>place_name</th>\n",
       "      <th>address</th>\n",
       "      <th>rating</th>\n",
       "    </tr>\n",
       "  </thead>\n",
       "  <tbody>\n",
       "    <tr>\n",
       "      <th>0</th>\n",
       "      <td>Chilco &amp; Barclay</td>\n",
       "      <td>Kingyo</td>\n",
       "      <td>871 Denman Street</td>\n",
       "      <td>4.4</td>\n",
       "    </tr>\n",
       "    <tr>\n",
       "      <th>1</th>\n",
       "      <td>Chilco &amp; Barclay</td>\n",
       "      <td>Nook</td>\n",
       "      <td>781 Denman Street</td>\n",
       "      <td>4.2</td>\n",
       "    </tr>\n",
       "    <tr>\n",
       "      <th>2</th>\n",
       "      <td>Chilco &amp; Barclay</td>\n",
       "      <td>Guu with Garlic</td>\n",
       "      <td>1698 Robson Street</td>\n",
       "      <td>4.3</td>\n",
       "    </tr>\n",
       "    <tr>\n",
       "      <th>3</th>\n",
       "      <td>Chilco &amp; Barclay</td>\n",
       "      <td>Tavola</td>\n",
       "      <td>1829 Robson Street</td>\n",
       "      <td>4.4</td>\n",
       "    </tr>\n",
       "    <tr>\n",
       "      <th>4</th>\n",
       "      <td>Chilco &amp; Barclay</td>\n",
       "      <td>Robba da Matti West End</td>\n",
       "      <td>1906 Haro St.</td>\n",
       "      <td>3.9</td>\n",
       "    </tr>\n",
       "  </tbody>\n",
       "</table>\n",
       "</div>"
      ],
      "text/plain": [
       "       station_name               place_name             address  rating\n",
       "0  Chilco & Barclay                   Kingyo   871 Denman Street     4.4\n",
       "1  Chilco & Barclay                     Nook   781 Denman Street     4.2\n",
       "2  Chilco & Barclay          Guu with Garlic  1698 Robson Street     4.3\n",
       "3  Chilco & Barclay                   Tavola  1829 Robson Street     4.4\n",
       "4  Chilco & Barclay  Robba da Matti West End       1906 Haro St.     3.9"
      ]
     },
     "execution_count": 7,
     "metadata": {},
     "output_type": "execute_result"
    }
   ],
   "source": [
    "# Put results into a DataFrame\n",
    "yelp_df = pd.DataFrame(biz_list)\n",
    "yelp_df.head()"
   ]
  },
  {
   "cell_type": "markdown",
   "metadata": {},
   "source": [
    "# Comparing Results"
   ]
  },
  {
   "cell_type": "markdown",
   "metadata": {},
   "source": [
    "Which API provided you with more complete data? Provide an explanation. "
   ]
  },
  {
   "cell_type": "markdown",
   "metadata": {},
   "source": []
  },
  {
   "cell_type": "markdown",
   "metadata": {},
   "source": [
    "**Yelp vs. Foursquare Coverage**  \n",
    "- Yelp returned `yelp_df.shape[0]` POIs in total.  \n",
    "- Yelp includes a `rating` field; Foursquare includes `distance`.  \n",
    "- Based on **number of results** and **presence of ratings**, Yelp appears more comprehensive for Vancouver."
   ]
  },
  {
   "cell_type": "markdown",
   "metadata": {},
   "source": [
    "Get the top 10 restaurants according to their rating"
   ]
  },
  {
   "cell_type": "code",
   "execution_count": 8,
   "metadata": {},
   "outputs": [
    {
     "data": {
      "text/html": [
       "<div>\n",
       "<style scoped>\n",
       "    .dataframe tbody tr th:only-of-type {\n",
       "        vertical-align: middle;\n",
       "    }\n",
       "\n",
       "    .dataframe tbody tr th {\n",
       "        vertical-align: top;\n",
       "    }\n",
       "\n",
       "    .dataframe thead th {\n",
       "        text-align: right;\n",
       "    }\n",
       "</style>\n",
       "<table border=\"1\" class=\"dataframe\">\n",
       "  <thead>\n",
       "    <tr style=\"text-align: right;\">\n",
       "      <th></th>\n",
       "      <th>place_name</th>\n",
       "      <th>rating</th>\n",
       "      <th>address</th>\n",
       "    </tr>\n",
       "  </thead>\n",
       "  <tbody>\n",
       "    <tr>\n",
       "      <th>849</th>\n",
       "      <td>Mainichi</td>\n",
       "      <td>5.0</td>\n",
       "      <td>3667 West Broadway</td>\n",
       "    </tr>\n",
       "    <tr>\n",
       "      <th>231</th>\n",
       "      <td>Mainichi</td>\n",
       "      <td>5.0</td>\n",
       "      <td>3667 West Broadway</td>\n",
       "    </tr>\n",
       "    <tr>\n",
       "      <th>1084</th>\n",
       "      <td>Mainichi</td>\n",
       "      <td>5.0</td>\n",
       "      <td>3667 West Broadway</td>\n",
       "    </tr>\n",
       "    <tr>\n",
       "      <th>773</th>\n",
       "      <td>Mainichi</td>\n",
       "      <td>5.0</td>\n",
       "      <td>3667 West Broadway</td>\n",
       "    </tr>\n",
       "    <tr>\n",
       "      <th>369</th>\n",
       "      <td>Pho Khanh Express</td>\n",
       "      <td>5.0</td>\n",
       "      <td>987 E Hastings Street</td>\n",
       "    </tr>\n",
       "    <tr>\n",
       "      <th>943</th>\n",
       "      <td>Pho Khanh Express</td>\n",
       "      <td>5.0</td>\n",
       "      <td>987 E Hastings Street</td>\n",
       "    </tr>\n",
       "    <tr>\n",
       "      <th>941</th>\n",
       "      <td>Bite Me Handhelds</td>\n",
       "      <td>5.0</td>\n",
       "      <td>1205 East Hastings Street</td>\n",
       "    </tr>\n",
       "    <tr>\n",
       "      <th>283</th>\n",
       "      <td>Mainichi</td>\n",
       "      <td>5.0</td>\n",
       "      <td>3667 West Broadway</td>\n",
       "    </tr>\n",
       "    <tr>\n",
       "      <th>13</th>\n",
       "      <td>Magari by Oca</td>\n",
       "      <td>5.0</td>\n",
       "      <td>1260 Commercial Drive</td>\n",
       "    </tr>\n",
       "    <tr>\n",
       "      <th>952</th>\n",
       "      <td>Magari by Oca</td>\n",
       "      <td>5.0</td>\n",
       "      <td>1260 Commercial Drive</td>\n",
       "    </tr>\n",
       "  </tbody>\n",
       "</table>\n",
       "</div>"
      ],
      "text/plain": [
       "             place_name  rating                    address\n",
       "849            Mainichi     5.0         3667 West Broadway\n",
       "231            Mainichi     5.0         3667 West Broadway\n",
       "1084           Mainichi     5.0         3667 West Broadway\n",
       "773            Mainichi     5.0         3667 West Broadway\n",
       "369   Pho Khanh Express     5.0      987 E Hastings Street\n",
       "943   Pho Khanh Express     5.0      987 E Hastings Street\n",
       "941   Bite Me Handhelds     5.0  1205 East Hastings Street\n",
       "283            Mainichi     5.0         3667 West Broadway\n",
       "13        Magari by Oca     5.0      1260 Commercial Drive\n",
       "952       Magari by Oca     5.0      1260 Commercial Drive"
      ]
     },
     "execution_count": 8,
     "metadata": {},
     "output_type": "execute_result"
    }
   ],
   "source": [
    "# Save to CSV\n",
    "fsq_df.to_csv(\"foursquare_pois.csv\", index=False)\n",
    "yelp_df.to_csv(\"yelp_pois.csv\", index=False)\n",
    "\n",
    "top_10 = yelp_df.sort_values(by=\"rating\", ascending=False).head(10)\n",
    "top_10[[\"place_name\", \"rating\", \"address\"]]\n"
   ]
  }
 ],
 "metadata": {
  "kernelspec": {
   "display_name": "Python 3 (ipykernel)",
   "language": "python",
   "name": "python3"
  },
  "language_info": {
   "codemirror_mode": {
    "name": "ipython",
    "version": 3
   },
   "file_extension": ".py",
   "mimetype": "text/x-python",
   "name": "python",
   "nbconvert_exporter": "python",
   "pygments_lexer": "ipython3",
   "version": "3.12.1"
  }
 },
 "nbformat": 4,
 "nbformat_minor": 4
}
