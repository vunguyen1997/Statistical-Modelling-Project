{
 "cells": [
  {
   "cell_type": "markdown",
   "metadata": {},
   "source": [
    "Join the data from Part 1 with the data from Part 2 to create a new dataframe."
   ]
  },
  {
   "cell_type": "code",
   "execution_count": 1,
   "metadata": {},
   "outputs": [
    {
     "data": {
      "text/html": [
       "<div>\n",
       "<style scoped>\n",
       "    .dataframe tbody tr th:only-of-type {\n",
       "        vertical-align: middle;\n",
       "    }\n",
       "\n",
       "    .dataframe tbody tr th {\n",
       "        vertical-align: top;\n",
       "    }\n",
       "\n",
       "    .dataframe thead th {\n",
       "        text-align: right;\n",
       "    }\n",
       "</style>\n",
       "<table border=\"1\" class=\"dataframe\">\n",
       "  <thead>\n",
       "    <tr style=\"text-align: right;\">\n",
       "      <th></th>\n",
       "      <th>id</th>\n",
       "      <th>station_name</th>\n",
       "      <th>latitude</th>\n",
       "      <th>longitude</th>\n",
       "      <th>timestamp</th>\n",
       "      <th>free_bikes</th>\n",
       "      <th>empty_slots</th>\n",
       "      <th>extra</th>\n",
       "      <th>poi_count</th>\n",
       "    </tr>\n",
       "  </thead>\n",
       "  <tbody>\n",
       "    <tr>\n",
       "      <th>0</th>\n",
       "      <td>00fa94ad698dc4a9e4d708d6fd32f294</td>\n",
       "      <td>Chilco &amp; Barclay</td>\n",
       "      <td>49.291909</td>\n",
       "      <td>-123.140713</td>\n",
       "      <td>2025-05-15T22:10:18.971140+00:00Z</td>\n",
       "      <td>12</td>\n",
       "      <td>6</td>\n",
       "      <td>{'uid': '0092', 'renting': True, 'returning': ...</td>\n",
       "      <td>10</td>\n",
       "    </tr>\n",
       "    <tr>\n",
       "      <th>1</th>\n",
       "      <td>012d3e06901cc222b1c2cf0a2ace3a29</td>\n",
       "      <td>St George &amp; Broadway</td>\n",
       "      <td>49.262321</td>\n",
       "      <td>-123.093060</td>\n",
       "      <td>2025-05-15T22:10:19.278717+00:00Z</td>\n",
       "      <td>4</td>\n",
       "      <td>9</td>\n",
       "      <td>{'uid': '0248', 'renting': True, 'returning': ...</td>\n",
       "      <td>10</td>\n",
       "    </tr>\n",
       "    <tr>\n",
       "      <th>2</th>\n",
       "      <td>029a505bd4422a1afd127987757f71a6</td>\n",
       "      <td>Britannia Parking Lot</td>\n",
       "      <td>49.275882</td>\n",
       "      <td>-123.071865</td>\n",
       "      <td>2025-05-15T22:10:19.223420+00:00Z</td>\n",
       "      <td>1</td>\n",
       "      <td>10</td>\n",
       "      <td>{'uid': '0232', 'renting': True, 'returning': ...</td>\n",
       "      <td>10</td>\n",
       "    </tr>\n",
       "    <tr>\n",
       "      <th>3</th>\n",
       "      <td>0438114d2e6b96118de69bc9775bb21e</td>\n",
       "      <td>Morton &amp; Denman</td>\n",
       "      <td>49.288030</td>\n",
       "      <td>-123.142135</td>\n",
       "      <td>2025-05-15T22:10:18.888188+00:00Z</td>\n",
       "      <td>8</td>\n",
       "      <td>17</td>\n",
       "      <td>{'uid': '0031', 'renting': True, 'returning': ...</td>\n",
       "      <td>10</td>\n",
       "    </tr>\n",
       "    <tr>\n",
       "      <th>4</th>\n",
       "      <td>0459b7e93703980b853cd65a9dc60596</td>\n",
       "      <td>Thornton &amp; National</td>\n",
       "      <td>49.273777</td>\n",
       "      <td>-123.092723</td>\n",
       "      <td>2025-05-15T22:10:19.277211+00:00Z</td>\n",
       "      <td>11</td>\n",
       "      <td>3</td>\n",
       "      <td>{'uid': '0233', 'renting': True, 'returning': ...</td>\n",
       "      <td>10</td>\n",
       "    </tr>\n",
       "  </tbody>\n",
       "</table>\n",
       "</div>"
      ],
      "text/plain": [
       "                                 id           station_name   latitude  \\\n",
       "0  00fa94ad698dc4a9e4d708d6fd32f294       Chilco & Barclay  49.291909   \n",
       "1  012d3e06901cc222b1c2cf0a2ace3a29   St George & Broadway  49.262321   \n",
       "2  029a505bd4422a1afd127987757f71a6  Britannia Parking Lot  49.275882   \n",
       "3  0438114d2e6b96118de69bc9775bb21e        Morton & Denman  49.288030   \n",
       "4  0459b7e93703980b853cd65a9dc60596    Thornton & National  49.273777   \n",
       "\n",
       "    longitude                          timestamp  free_bikes  empty_slots  \\\n",
       "0 -123.140713  2025-05-15T22:10:18.971140+00:00Z          12            6   \n",
       "1 -123.093060  2025-05-15T22:10:19.278717+00:00Z           4            9   \n",
       "2 -123.071865  2025-05-15T22:10:19.223420+00:00Z           1           10   \n",
       "3 -123.142135  2025-05-15T22:10:18.888188+00:00Z           8           17   \n",
       "4 -123.092723  2025-05-15T22:10:19.277211+00:00Z          11            3   \n",
       "\n",
       "                                               extra  poi_count  \n",
       "0  {'uid': '0092', 'renting': True, 'returning': ...         10  \n",
       "1  {'uid': '0248', 'renting': True, 'returning': ...         10  \n",
       "2  {'uid': '0232', 'renting': True, 'returning': ...         10  \n",
       "3  {'uid': '0031', 'renting': True, 'returning': ...         10  \n",
       "4  {'uid': '0233', 'renting': True, 'returning': ...         10  "
      ]
     },
     "execution_count": 1,
     "metadata": {},
     "output_type": "execute_result"
    }
   ],
   "source": [
    "import pandas as pd\n",
    "\n",
    "# Part 1 stations\n",
    "df_bikes = pd.read_csv(\"vancouver_bike_stations.csv\")\n",
    "df_bikes = df_bikes.rename(columns={\"name\": \"station_name\"})\n",
    "\n",
    "# Part 2 POIs\n",
    "fsq_df  = pd.read_csv(\"foursquare_pois.csv\")  \n",
    "yelp_df = pd.read_csv(\"yelp_pois.csv\")        \n",
    "\n",
    "# Clean & align columns\n",
    "fsq_clean = fsq_df.rename(columns={\n",
    "    \"place_name\": \"poi_name\",\n",
    "    \"address\":    \"poi_address\",\n",
    "    \"distance\":   \"poi_distance\"\n",
    "})[[\"station_name\",\"poi_name\",\"poi_address\",\"poi_distance\"]]\n",
    "\n",
    "yelp_clean = yelp_df.rename(columns={\n",
    "    \"place_name\":    \"poi_name\",\n",
    "    \"address\":       \"poi_address\",\n",
    "    \"rating\":        \"poi_rating\"\n",
    "})[[\"station_name\",\"poi_name\",\"poi_address\",\"poi_rating\"]]\n",
    "\n",
    "# Add source tags\n",
    "fsq_clean[\"source\"]  = \"Foursquare\"\n",
    "yelp_clean[\"source\"] = \"Yelp\"\n",
    "\n",
    "# Concatenate into one combined POI table\n",
    "combined = pd.concat([fsq_clean, yelp_clean], ignore_index=True)\n",
    "\n",
    "# Join station info with POI counts\n",
    "poi_counts = (\n",
    "    combined\n",
    "    .groupby(\"station_name\")\n",
    "    .size()\n",
    "    .reset_index(name=\"poi_count\")\n",
    ")\n",
    "\n",
    "df_joined = (\n",
    "    df_bikes\n",
    "    .merge(poi_counts, on=\"station_name\", how=\"left\")\n",
    "    .fillna({\"poi_count\": 0})\n",
    ")\n",
    "\n",
    "df_joined.head()"
   ]
  },
  {
   "cell_type": "markdown",
   "metadata": {},
   "source": [
    "Provide a visualization that you used as part of your EDA process. Explain the initial pattern or relationship you discoved through this visualization. "
   ]
  },
  {
   "cell_type": "code",
   "execution_count": 2,
   "metadata": {},
   "outputs": [
    {
     "data": {
      "image/png": "[encoded data removed]",
      "text/plain": [
       "<Figure size 640x480 with 1 Axes>"
      ]
     },
     "metadata": {},
     "output_type": "display_data"
    }
   ],
   "source": [
    "import matplotlib.pyplot as plt\n",
    "\n",
    "plt.scatter(df_joined[\"poi_count\"], df_joined[\"free_bikes\"])\n",
    "plt.title(\"Free Bikes vs. Number of Nearby POIs\")\n",
    "plt.xlabel(\"Number of POIs within 1km\")\n",
    "plt.ylabel(\"Number of Free Bikes\")\n",
    "plt.grid(True)\n",
    "plt.show()"
   ]
  },
  {
   "cell_type": "markdown",
   "metadata": {},
   "source": [
    "# Database"
   ]
  },
  {
   "cell_type": "markdown",
   "metadata": {},
   "source": [
    "Put all your results in an SQLite3 database (remember, SQLite stores its databases as files in your local machine - make sure to create your database in your project's data/ directory!)"
   ]
  },
  {
   "cell_type": "code",
   "execution_count": 3,
   "metadata": {},
   "outputs": [],
   "source": [
    "# Make sure the directory exists\n",
    "import os\n",
    "os.makedirs(\"data\", exist_ok=True)\n",
    "\n",
    "# Connect to the same file\n",
    "import sqlite3\n",
    "conn = sqlite3.connect(\"data/bike_poi_data.db\")\n",
    "df_joined.to_sql(\"station_poi\", conn, if_exists=\"replace\", index=False)\n",
    "conn.close()"
   ]
  },
  {
   "cell_type": "markdown",
   "metadata": {},
   "source": [
    "Look at the data before and after the join to validate your data."
   ]
  },
  {
   "cell_type": "code",
   "execution_count": 4,
   "metadata": {},
   "outputs": [
    {
     "name": "stdout",
     "output_type": "stream",
     "text": [
      "Sample rows from station_poi:\n",
      "                                 id           station_name   latitude  \\\n",
      "0  00fa94ad698dc4a9e4d708d6fd32f294       Chilco & Barclay  49.291909   \n",
      "1  012d3e06901cc222b1c2cf0a2ace3a29   St George & Broadway  49.262321   \n",
      "2  029a505bd4422a1afd127987757f71a6  Britannia Parking Lot  49.275882   \n",
      "3  0438114d2e6b96118de69bc9775bb21e        Morton & Denman  49.288030   \n",
      "4  0459b7e93703980b853cd65a9dc60596    Thornton & National  49.273777   \n",
      "\n",
      "    longitude                          timestamp  free_bikes  empty_slots  \\\n",
      "0 -123.140713  2025-05-15T22:10:18.971140+00:00Z          12            6   \n",
      "1 -123.093060  2025-05-15T22:10:19.278717+00:00Z           4            9   \n",
      "2 -123.071865  2025-05-15T22:10:19.223420+00:00Z           1           10   \n",
      "3 -123.142135  2025-05-15T22:10:18.888188+00:00Z           8           17   \n",
      "4 -123.092723  2025-05-15T22:10:19.277211+00:00Z          11            3   \n",
      "\n",
      "                                               extra  poi_count  \n",
      "0  {'uid': '0092', 'renting': True, 'returning': ...         10  \n",
      "1  {'uid': '0248', 'renting': True, 'returning': ...         10  \n",
      "2  {'uid': '0232', 'renting': True, 'returning': ...         10  \n",
      "3  {'uid': '0031', 'renting': True, 'returning': ...         10  \n",
      "4  {'uid': '0233', 'renting': True, 'returning': ...         10  \n"
     ]
    }
   ],
   "source": [
    "import sqlite3, pandas as pd\n",
    "\n",
    "conn = sqlite3.connect(\"data/bike_poi_data.db\")\n",
    "print(\"Sample rows from station_poi:\")\n",
    "print(pd.read_sql_query(\"SELECT * FROM station_poi LIMIT 5;\", conn))\n",
    "conn.close()"
   ]
  }
 ],
 "metadata": {
  "kernelspec": {
   "display_name": "Python 3 (ipykernel)",
   "language": "python",
   "name": "python3"
  },
  "language_info": {
   "codemirror_mode": {
    "name": "ipython",
    "version": 3
   },
   "file_extension": ".py",
   "mimetype": "text/x-python",
   "name": "python",
   "nbconvert_exporter": "python",
   "pygments_lexer": "ipython3",
   "version": "3.12.1"
  }
 },
 "nbformat": 4,
 "nbformat_minor": 4
}
