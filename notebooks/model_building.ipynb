{
 "cells": [
  {
   "cell_type": "markdown",
   "metadata": {},
   "source": [
    "Build a regression model."
   ]
  },
  {
   "cell_type": "code",
   "execution_count": 5,
   "metadata": {},
   "outputs": [
    {
     "name": "stdout",
     "output_type": "stream",
     "text": [
      "                            OLS Regression Results                            \n",
      "==============================================================================\n",
      "Dep. Variable:             free_bikes   R-squared:                       0.004\n",
      "Model:                            OLS   Adj. R-squared:                 -0.000\n",
      "Method:                 Least Squares   F-statistic:                    0.9375\n",
      "Date:                Thu, 15 May 2025   Prob (F-statistic):              0.334\n",
      "Time:                        22:21:11   Log-Likelihood:                -810.44\n",
      "No. Observations:                 264   AIC:                             1625.\n",
      "Df Residuals:                     262   BIC:                             1632.\n",
      "Df Model:                           1                                         \n",
      "Covariance Type:            nonrobust                                         \n",
      "==============================================================================\n",
      "                 coef    std err          t      P>|t|      [0.025      0.975]\n",
      "------------------------------------------------------------------------------\n",
      "const         15.8224      8.515      1.858      0.064      -0.945      32.590\n",
      "poi_count     -0.8277      0.855     -0.968      0.334      -2.511       0.856\n",
      "==============================================================================\n",
      "Omnibus:                       21.969   Durbin-Watson:                   2.157\n",
      "Prob(Omnibus):                  0.000   Jarque-Bera (JB):               24.969\n",
      "Skew:                           0.734   Prob(JB):                     3.78e-06\n",
      "Kurtosis:                       3.341   Cond. No.                         266.\n",
      "==============================================================================\n",
      "\n",
      "Notes:\n",
      "[1] Standard Errors assume that the covariance matrix of the errors is correctly specified.\n"
     ]
    }
   ],
   "source": [
    "import sqlite3\n",
    "import pandas as pd\n",
    "import statsmodels.api as sm\n",
    "\n",
    "# 1) Load the joined station–POI table from SQLite\n",
    "conn = sqlite3.connect(\"data/bike_poi_data.db\")\n",
    "df = pd.read_sql_query(\"SELECT * FROM station_poi\", conn)\n",
    "conn.close()\n",
    "\n",
    "# 2) Define predictor(s) and response\n",
    "X = df[[\"poi_count\"]]\n",
    "y = df[\"free_bikes\"]\n",
    "\n",
    "# 3) Add a constant term so we fit an intercept\n",
    "X = sm.add_constant(X)\n",
    "\n",
    "# 4) Fit an OLS regression\n",
    "model = sm.OLS(y, X).fit()\n",
    "\n",
    "# 5) Display the full regression results\n",
    "print(model.summary())"
   ]
  },
  {
   "cell_type": "markdown",
   "metadata": {},
   "source": [
    "Provide model output and an interpretation of the results. "
   ]
  },
  {
   "cell_type": "code",
   "execution_count": 4,
   "metadata": {},
   "outputs": [
    {
     "name": "stdout",
     "output_type": "stream",
     "text": [
      "R² = 0.004\n",
      "Intercept = 15.82\n",
      "POI coefficient = -0.83 (p = 0.334)\n"
     ]
    }
   ],
   "source": [
    "# show the key stats\n",
    "print(f\"R² = {model.rsquared:.3f}\")\n",
    "print(f\"Intercept = {model.params['const']:.2f}\")\n",
    "print(f\"POI coefficient = {model.params['poi_count']:.2f} (p = {model.pvalues['poi_count']:.3f})\")"
   ]
  },
  {
   "cell_type": "markdown",
   "metadata": {},
   "source": [
    "## Interpretation of the Regression Output\n",
    "\n",
    "- **R² ≈ 0.004**  \n",
    "  Only about 0.4 % of the variation in **free_bikes** is explained by **poi_count**. In other words, POI density does almost nothing to predict bike availability in this sample.\n",
    "\n",
    "- **Intercept ≈ 15.82**  \n",
    "  When there are zero POIs within the buffer, the model predicts about **15.8 free bikes** at a station on average. This serves as the baseline level of availability.\n",
    "\n",
    "- **POI coefficient ≈ –0.83 (p = 0.334)**  \n",
    "  - The point estimate suggests each additional POI is associated with about **0.83 fewer free bikes**.  \n",
    "  - However, the p-value of **0.334** is well above 0.05, so this effect is **not statistically significant**. We cannot rule out that the true effect is zero (or even positive).\n",
    "\n",
    "---\n",
    "\n",
    "### Bottom Line\n",
    "\n",
    "There is **no meaningful or reliable** linear relationship between POI count and free‐bike availability here. To improve the model, consider:\n",
    "\n",
    "1. **Adding more or different predictors**  \n",
    "   e.g. time of day, station capacity, day of week, weather conditions.  \n",
    "2. **Exploring non-linear patterns**  \n",
    "   Perhaps availability changes sharply around certain POI thresholds.  \n",
    "3. **Expanding your POI definition**  \n",
    "   Include cafés, bars, transit stops, etc., to capture broader “activity density.”  \n",
    "4. **Increasing sample size**  \n",
    "   More stations or longer time windows may reveal stronger signals.  "
   ]
  },
  {
   "cell_type": "markdown",
   "metadata": {},
   "source": [
    "# Stretch"
   ]
  },
  {
   "cell_type": "markdown",
   "metadata": {},
   "source": [
    "How can you turn the regression model into a classification model?"
   ]
  },
  {
   "cell_type": "code",
   "execution_count": 8,
   "metadata": {},
   "outputs": [
    {
     "name": "stdout",
     "output_type": "stream",
     "text": [
      "              precision    recall  f1-score   support\n",
      "\n",
      "           0       0.00      0.00      0.00       122\n",
      "           1       0.54      1.00      0.70       142\n",
      "\n",
      "    accuracy                           0.54       264\n",
      "   macro avg       0.27      0.50      0.35       264\n",
      "weighted avg       0.29      0.54      0.38       264\n",
      "\n",
      "ROC AUC: 0.5100727314707919\n"
     ]
    },
    {
     "name": "stderr",
     "output_type": "stream",
     "text": [
      "/home/codespace/.local/lib/python3.12/site-packages/sklearn/metrics/_classification.py:1565: UndefinedMetricWarning: Precision is ill-defined and being set to 0.0 in labels with no predicted samples. Use `zero_division` parameter to control this behavior.\n",
      "  _warn_prf(average, modifier, f\"{metric.capitalize()} is\", len(result))\n",
      "/home/codespace/.local/lib/python3.12/site-packages/sklearn/metrics/_classification.py:1565: UndefinedMetricWarning: Precision is ill-defined and being set to 0.0 in labels with no predicted samples. Use `zero_division` parameter to control this behavior.\n",
      "  _warn_prf(average, modifier, f\"{metric.capitalize()} is\", len(result))\n",
      "/home/codespace/.local/lib/python3.12/site-packages/sklearn/metrics/_classification.py:1565: UndefinedMetricWarning: Precision is ill-defined and being set to 0.0 in labels with no predicted samples. Use `zero_division` parameter to control this behavior.\n",
      "  _warn_prf(average, modifier, f\"{metric.capitalize()} is\", len(result))\n"
     ]
    }
   ],
   "source": [
    "from sklearn.linear_model import LogisticRegression\n",
    "from sklearn.metrics import classification_report, roc_auc_score\n",
    "\n",
    "# 1. Binarize target at the median\n",
    "df[\"high_availability\"] = (df[\"free_bikes\"] >= df[\"free_bikes\"].median()).astype(int)\n",
    "\n",
    "# 2. Feature matrix\n",
    "X_clf = df[[\"poi_count\"]]\n",
    "y_clf = df[\"high_availability\"]\n",
    "\n",
    "# 3. Fit logistic regression\n",
    "clf = LogisticRegression().fit(X_clf, y_clf)\n",
    "\n",
    "# 4. Evaluate\n",
    "y_pred = clf.predict(X_clf)\n",
    "print(classification_report(y_clf, y_pred))\n",
    "print(\"ROC AUC:\", roc_auc_score(y_clf, clf.predict_proba(X_clf)[:,1]))"
   ]
  }
 ],
 "metadata": {
  "kernelspec": {
   "display_name": "Python 3 (ipykernel)",
   "language": "python",
   "name": "python3"
  },
  "language_info": {
   "codemirror_mode": {
    "name": "ipython",
    "version": 3
   },
   "file_extension": ".py",
   "mimetype": "text/x-python",
   "name": "python",
   "nbconvert_exporter": "python",
   "pygments_lexer": "ipython3",
   "version": "3.12.1"
  }
 },
 "nbformat": 4,
 "nbformat_minor": 4
}
